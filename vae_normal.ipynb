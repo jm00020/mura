{
 "cells": [
  {
   "cell_type": "code",
   "execution_count": 1,
   "metadata": {},
   "outputs": [
    {
     "name": "stderr",
     "output_type": "stream",
     "text": [
      "Using TensorFlow backend.\n"
     ]
    }
   ],
   "source": [
    "import numpy as np\n",
    "import keras\n",
    "from keras.layers import Dense, Input, Conv2D, Lambda, Flatten, Concatenate, Reshape, Conv2DTranspose\n",
    "from keras.models import Sequential, Model, load_model\n",
    "\n",
    "import keras.backend as K"
   ]
  },
  {
   "cell_type": "code",
   "execution_count": 2,
   "metadata": {},
   "outputs": [],
   "source": [
    "train_input = np.loadtxt('input_2.csv', delimiter=',')\n",
    "train_input = np.reshape(train_input, (-1, 512,512,1))"
   ]
  },
  {
   "cell_type": "code",
   "execution_count": 3,
   "metadata": {},
   "outputs": [
    {
     "name": "stdout",
     "output_type": "stream",
     "text": [
      "(175, 512, 512, 1)\n"
     ]
    }
   ],
   "source": [
    "train_input = train_input[:175]\n",
    "print(train_input.shape)"
   ]
  },
  {
   "cell_type": "code",
   "execution_count": 4,
   "metadata": {},
   "outputs": [],
   "source": [
    "# input_layer = Input(shape=(512,512,1))\n",
    "# conv1 =  Conv2D(2, kernel_size=(5,5), strides=(4,4), padding='same', activation='relu')(input_layer)\n",
    "# conv2 =  Conv2D(4, kernel_size=(5,5), strides=(4,4), padding='same', activation='relu')(conv1)\n",
    "# conv3 =  Conv2D(8, kernel_size=(5,5), strides=(4,4), padding='same', activation='relu')(conv2)\n",
    "\n",
    "# flatten = Flatten()(conv3)\n",
    "\n",
    "# z_mean = Lambda(lambda x: K.mean(x, axis = 1))(flatten)\n",
    "# z_mean = Reshape((-1,1))(z_mean)\n",
    "# z_var = Lambda(lambda x: K.var(x, axis = 1))(flatten)\n",
    "# z_var = Reshape((-1,1))(z_var)\n",
    "\n",
    "# merge = Concatenate()([z_mean, z_var])\n",
    "\n",
    "\n",
    "# encoder = Model(inputs = input_layer, outputs = merge)"
   ]
  },
  {
   "cell_type": "code",
   "execution_count": 5,
   "metadata": {},
   "outputs": [],
   "source": [
    "# encoder.compile(optimizer='adam', loss='binary_crossentropy', metrics=['accuracy'])"
   ]
  },
  {
   "cell_type": "code",
   "execution_count": null,
   "metadata": {},
   "outputs": [],
   "source": [
    "# encoder.summary()"
   ]
  },
  {
   "cell_type": "code",
   "execution_count": 7,
   "metadata": {},
   "outputs": [],
   "source": [
    "# input_layer = Input(shape=(1,2,))\n",
    "# dense1 = Dense(512, activation='relu')(input_layer)\n",
    "# reshape_layer = Reshape((8, 8, 8))(dense1)\n",
    "# conv1 =  Conv2DTranspose(4, kernel_size=(5,5), strides=(4,4), padding='same', activation='relu')(reshape_layer)\n",
    "# conv2 =  Conv2DTranspose(2, kernel_size=(5,5), strides=(4,4), padding='same', activation='relu')(conv1)\n",
    "# output_layer =  Conv2DTranspose(1, kernel_size=(5,5), strides=(4,4), padding='same', activation='sigmoid')(conv2)\n",
    "\n",
    "\n",
    "# decoder = Model(inputs = input_layer, outputs = output_layer)"
   ]
  },
  {
   "cell_type": "code",
   "execution_count": 8,
   "metadata": {},
   "outputs": [],
   "source": [
    "# decoder.compile(optimizer='adam', loss='binary_crossentropy', metrics=['accuracy'])"
   ]
  },
  {
   "cell_type": "code",
   "execution_count": null,
   "metadata": {},
   "outputs": [],
   "source": [
    "# decoder.summary()"
   ]
  },
  {
   "cell_type": "code",
   "execution_count": 4,
   "metadata": {},
   "outputs": [],
   "source": [
    "encoder = load_model('normal_encoder.h5')\n",
    "decoder = load_model('normal_decoder.h5')"
   ]
  },
  {
   "cell_type": "code",
   "execution_count": 11,
   "metadata": {},
   "outputs": [],
   "source": [
    "input_layer = Input(shape=(512, 512, 1))\n",
    "\n",
    "encoder_layer = encoder(input_layer)\n",
    "\n",
    "decoder_layer = decoder(encoder_layer)\n",
    "\n",
    "total_model = Model(inputs=input_layer,outputs=decoder_layer)"
   ]
  },
  {
   "cell_type": "code",
   "execution_count": 12,
   "metadata": {},
   "outputs": [
    {
     "name": "stdout",
     "output_type": "stream",
     "text": [
      "Model: \"model_3\"\n",
      "_________________________________________________________________\n",
      "Layer (type)                 Output Shape              Param #   \n",
      "=================================================================\n",
      "input_3 (InputLayer)         (None, 512, 512, 1)       0         \n",
      "_________________________________________________________________\n",
      "model_1 (Model)              (None, 1, 2)              1064      \n",
      "_________________________________________________________________\n",
      "model_2 (Model)              (None, 512, 512, 1)       2593      \n",
      "=================================================================\n",
      "Total params: 3,657\n",
      "Trainable params: 3,657\n",
      "Non-trainable params: 0\n",
      "_________________________________________________________________\n"
     ]
    }
   ],
   "source": [
    "total_model.summary()"
   ]
  },
  {
   "cell_type": "code",
   "execution_count": 13,
   "metadata": {},
   "outputs": [],
   "source": [
    "total_model.compile(optimizer='adam', loss='binary_crossentropy', metrics=['accuracy'])"
   ]
  },
  {
   "cell_type": "code",
   "execution_count": 91,
   "metadata": {},
   "outputs": [],
   "source": [
    "noise_train_input = train_input + np.random.normal(0,1,train_input.shape)"
   ]
  },
  {
   "cell_type": "code",
   "execution_count": null,
   "metadata": {},
   "outputs": [],
   "source": [
    "total_model.fit(noise_train_input, train_input,\n",
    "               epochs = 100,\n",
    "               batch_size=350,\n",
    "               shuffle=True)"
   ]
  },
  {
   "cell_type": "code",
   "execution_count": 70,
   "metadata": {},
   "outputs": [],
   "source": [
    "encoder.save('normal_encoder.h5')\n",
    "decoder.save('normal_decoder.h5')"
   ]
  },
  {
   "cell_type": "code",
   "execution_count": 86,
   "metadata": {},
   "outputs": [
    {
     "name": "stdout",
     "output_type": "stream",
     "text": [
      "175/175 [==============================] - 1s 4ms/step\n"
     ]
    },
    {
     "data": {
      "text/plain": [
       "[0.5876931003161839, 0.0]"
      ]
     },
     "execution_count": 86,
     "metadata": {},
     "output_type": "execute_result"
    }
   ],
   "source": [
    "total_model.evaluate(noise_train_input, train_input)"
   ]
  },
  {
   "cell_type": "code",
   "execution_count": null,
   "metadata": {},
   "outputs": [],
   "source": [
    "noise_train_input = train_input + np.random.normal(0,1,train_input.shape)"
   ]
  },
  {
   "cell_type": "code",
   "execution_count": 92,
   "metadata": {},
   "outputs": [],
   "source": [
    "for i in range(10):\n",
    "    total_model.fit(noise_train_input, train_input,\n",
    "               epochs = 100,\n",
    "               batch_size=350,\n",
    "               shuffle=True, verbose = 0)"
   ]
  },
  {
   "cell_type": "code",
   "execution_count": 93,
   "metadata": {},
   "outputs": [],
   "source": [
    "encoder.save('normal_encoder.h5')\n",
    "decoder.save('normal_decoder.h5')"
   ]
  },
  {
   "cell_type": "code",
   "execution_count": 6,
   "metadata": {},
   "outputs": [],
   "source": [
    "a = encoder.predict(train_input)"
   ]
  },
  {
   "cell_type": "code",
   "execution_count": 7,
   "metadata": {},
   "outputs": [
    {
     "name": "stdout",
     "output_type": "stream",
     "text": [
      "[[3.4549891e-03 2.0229785e-05]]\n",
      "[[2.8677147e-17 1.4591466e-21]]\n"
     ]
    }
   ],
   "source": [
    "print(np.mean(a, axis=0))\n",
    "print(np.var(a, axis=0))"
   ]
  },
  {
   "cell_type": "code",
   "execution_count": 95,
   "metadata": {},
   "outputs": [
    {
     "name": "stdout",
     "output_type": "stream",
     "text": [
      "[[0.08848938 0.01476633]]\n",
      "[[0.07666418 0.01263762]]\n"
     ]
    }
   ],
   "source": [
    "print(a[0])\n",
    "print(a[50])"
   ]
  },
  {
   "cell_type": "code",
   "execution_count": 96,
   "metadata": {},
   "outputs": [],
   "source": [
    "b = decoder.predict(a)"
   ]
  },
  {
   "cell_type": "code",
   "execution_count": 97,
   "metadata": {},
   "outputs": [
    {
     "name": "stdout",
     "output_type": "stream",
     "text": [
      "[[[0.7254897]\n",
      "  [0.7254897]\n",
      "  [0.7254897]\n",
      "  ...\n",
      "  [0.7254897]\n",
      "  [0.7254897]\n",
      "  [0.7254897]]\n",
      "\n",
      " [[0.7254897]\n",
      "  [0.7254897]\n",
      "  [0.7254897]\n",
      "  ...\n",
      "  [0.7254897]\n",
      "  [0.7254897]\n",
      "  [0.7254897]]\n",
      "\n",
      " [[0.7254897]\n",
      "  [0.7254897]\n",
      "  [0.7254897]\n",
      "  ...\n",
      "  [0.7254897]\n",
      "  [0.7254897]\n",
      "  [0.7254897]]\n",
      "\n",
      " ...\n",
      "\n",
      " [[0.7254897]\n",
      "  [0.7254897]\n",
      "  [0.7254897]\n",
      "  ...\n",
      "  [0.7254897]\n",
      "  [0.7254897]\n",
      "  [0.7254897]]\n",
      "\n",
      " [[0.7254897]\n",
      "  [0.7254897]\n",
      "  [0.7254897]\n",
      "  ...\n",
      "  [0.7254897]\n",
      "  [0.7254897]\n",
      "  [0.7254897]]\n",
      "\n",
      " [[0.7254897]\n",
      "  [0.7254897]\n",
      "  [0.7254897]\n",
      "  ...\n",
      "  [0.7254897]\n",
      "  [0.7254897]\n",
      "  [0.7254897]]]\n"
     ]
    }
   ],
   "source": [
    "print(b[0])"
   ]
  },
  {
   "cell_type": "code",
   "execution_count": 98,
   "metadata": {},
   "outputs": [],
   "source": [
    "from PIL import Image\n",
    "import matplotlib.pyplot as plt "
   ]
  },
  {
   "cell_type": "code",
   "execution_count": 99,
   "metadata": {},
   "outputs": [],
   "source": [
    "img = np.reshape(b[0],(512,512))"
   ]
  },
  {
   "cell_type": "code",
   "execution_count": 100,
   "metadata": {},
   "outputs": [
    {
     "data": {
      "text/plain": [
       "<matplotlib.image.AxesImage at 0x1d9176c6240>"
      ]
     },
     "execution_count": 100,
     "metadata": {},
     "output_type": "execute_result"
    },
    {
     "data": {
      "image/png": "[encoded data removed]",
      "text/plain": [
       "<Figure size 432x288 with 1 Axes>"
      ]
     },
     "metadata": {
      "needs_background": "light"
     },
     "output_type": "display_data"
    }
   ],
   "source": [
    "plt.imshow(img)"
   ]
  },
  {
   "cell_type": "code",
   "execution_count": null,
   "metadata": {},
   "outputs": [],
   "source": []
  }
 ],
 "metadata": {
  "kernelspec": {
   "display_name": "Python 3",
   "language": "python",
   "name": "python3"
  },
  "language_info": {
   "codemirror_mode": {
    "name": "ipython",
    "version": 3
   },
   "file_extension": ".py",
   "mimetype": "text/x-python",
   "name": "python",
   "nbconvert_exporter": "python",
   "pygments_lexer": "ipython3",
   "version": "3.6.10"
  }
 },
 "nbformat": 4,
 "nbformat_minor": 2
}
