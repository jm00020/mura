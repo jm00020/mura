{
 "cells": [
  {
   "cell_type": "code",
   "execution_count": 1,
   "metadata": {},
   "outputs": [
    {
     "name": "stderr",
     "output_type": "stream",
     "text": [
      "Using TensorFlow backend.\n"
     ]
    }
   ],
   "source": [
    "import numpy as np\n",
    "import keras\n",
    "from keras.layers import Dense, Input, Conv2D, MaxPooling2D, Dropout, Flatten, Concatenate\n",
    "from keras.models import Sequential, Model, load_model\n",
    "\n",
    "from PIL import Image\n",
    "from skimage.transform import resize\n",
    "import tensorflow as tf"
   ]
  },
  {
   "cell_type": "code",
   "execution_count": 2,
   "metadata": {},
   "outputs": [
    {
     "name": "stdout",
     "output_type": "stream",
     "text": [
      "WARNING:tensorflow:From D:\\anaconda\\lib\\site-packages\\tensorflow_core\\python\\ops\\resource_variable_ops.py:1630: calling BaseResourceVariable.__init__ (from tensorflow.python.ops.resource_variable_ops) with constraint is deprecated and will be removed in a future version.\n",
      "Instructions for updating:\n",
      "If using Keras pass *_constraint arguments to layers.\n",
      "WARNING:tensorflow:From D:\\anaconda\\lib\\site-packages\\keras\\backend\\tensorflow_backend.py:4070: The name tf.nn.max_pool is deprecated. Please use tf.nn.max_pool2d instead.\n",
      "\n",
      "WARNING:tensorflow:From D:\\anaconda\\lib\\site-packages\\keras\\backend\\tensorflow_backend.py:422: The name tf.global_variables is deprecated. Please use tf.compat.v1.global_variables instead.\n",
      "\n"
     ]
    }
   ],
   "source": [
    "with tf.device('/gpu:1'):\n",
    "    model = load_model('model/model_2_1.h5')"
   ]
  },
  {
   "cell_type": "code",
   "execution_count": 3,
   "metadata": {},
   "outputs": [],
   "source": [
    "test_input = []"
   ]
  },
  {
   "cell_type": "code",
   "execution_count": 4,
   "metadata": {},
   "outputs": [],
   "source": [
    "for i in range(0, 311):\n",
    "    path = 'Image_310/%s/W225.bmp'%str(i).zfill(4)\n",
    "    img = np.array(Image.open(path))\n",
    "    img = (255 - img)/255\n",
    "    img = resize(img,((480,480)), mode='reflect')\n",
    "    test_input.append([img])"
   ]
  },
  {
   "cell_type": "code",
   "execution_count": 5,
   "metadata": {},
   "outputs": [],
   "source": [
    "test_input = np.reshape(test_input,(-1,480,480,1))"
   ]
  },
  {
   "cell_type": "code",
   "execution_count": 6,
   "metadata": {},
   "outputs": [
    {
     "name": "stdout",
     "output_type": "stream",
     "text": [
      "(311, 480, 480, 1)\n"
     ]
    }
   ],
   "source": [
    "print(test_input.shape)"
   ]
  },
  {
   "cell_type": "code",
   "execution_count": 7,
   "metadata": {},
   "outputs": [
    {
     "name": "stdout",
     "output_type": "stream",
     "text": [
      "time:  2.0116162300109863\n"
     ]
    }
   ],
   "source": [
    "import time\n",
    "start = time.time()\n",
    "with tf.device('/gpu:1'):\n",
    "    result = model.predict(test_input)\n",
    "end = time.time()\n",
    "print('time: ', end - start)"
   ]
  },
  {
   "cell_type": "code",
   "execution_count": 8,
   "metadata": {},
   "outputs": [],
   "source": [
    "labels = np.argmax(result, axis=1)"
   ]
  },
  {
   "cell_type": "code",
   "execution_count": 9,
   "metadata": {},
   "outputs": [],
   "source": [
    "true_label = np.zeros(311)\n",
    "true_label[1:] = 1\n",
    "\n",
    "check_label = np.zeros(311)"
   ]
  },
  {
   "cell_type": "code",
   "execution_count": 10,
   "metadata": {},
   "outputs": [
    {
     "name": "stdout",
     "output_type": "stream",
     "text": [
      "0000 : normal\n",
      "0001 : mura\n",
      "0002 : mura\n",
      "0003 : mura\n",
      "0004 : mura\n",
      "0005 : mura\n",
      "0006 : mura\n",
      "0007 : mura\n",
      "0008 : mura\n",
      "0009 : mura\n",
      "0010 : mura\n",
      "0011 : mura\n",
      "0012 : mura\n",
      "0013 : mura\n",
      "0014 : mura\n",
      "0015 : mura\n",
      "0016 : mura\n",
      "0017 : mura\n",
      "0018 : mura\n",
      "0019 : mura\n",
      "0020 : mura\n",
      "0021 : mura\n",
      "0022 : mura\n",
      "0023 : mura\n",
      "0024 : mura\n",
      "0025 : mura\n",
      "0026 : mura\n",
      "0027 : mura\n",
      "0028 : mura\n",
      "0029 : mura\n",
      "0030 : mura\n",
      "0031 : mura\n",
      "0032 : mura\n",
      "0033 : mura\n",
      "0034 : mura\n",
      "0035 : mura\n",
      "0036 : mura\n",
      "0037 : mura\n",
      "0038 : mura\n",
      "0039 : mura\n",
      "0040 : mura\n",
      "0041 : mura\n",
      "0042 : mura\n",
      "0043 : mura\n",
      "0044 : mura\n",
      "0045 : mura\n",
      "0046 : mura\n",
      "0047 : mura\n",
      "0048 : mura\n",
      "0049 : mura\n",
      "0050 : mura\n",
      "0051 : mura\n",
      "0052 : mura\n",
      "0053 : mura\n",
      "0054 : mura\n",
      "0055 : mura\n",
      "0056 : mura\n",
      "0057 : mura\n",
      "0058 : mura\n",
      "0059 : mura\n",
      "0060 : mura\n",
      "0061 : mura\n",
      "0062 : mura\n",
      "0063 : mura\n",
      "0064 : mura\n",
      "0065 : mura\n",
      "0066 : mura\n",
      "0067 : mura\n",
      "0068 : mura\n",
      "0069 : mura\n",
      "0070 : mura\n",
      "0071 : mura\n",
      "0072 : mura\n",
      "0073 : mura\n",
      "0074 : mura\n",
      "0075 : mura\n",
      "0076 : mura\n",
      "0077 : mura\n",
      "0078 : mura\n",
      "0079 : mura\n",
      "0080 : mura\n",
      "0081 : mura\n",
      "0082 : mura\n",
      "0083 : mura\n",
      "0084 : mura\n",
      "0085 : mura\n",
      "0086 : mura\n",
      "0087 : mura\n",
      "0088 : mura\n",
      "0089 : mura\n",
      "0090 : mura\n",
      "0091 : mura\n",
      "0092 : mura\n",
      "0093 : mura\n",
      "0094 : mura\n",
      "0095 : mura\n",
      "0096 : mura\n",
      "0097 : mura\n",
      "0098 : mura\n",
      "0099 : mura\n",
      "0100 : mura\n",
      "0101 : mura\n",
      "0102 : mura\n",
      "0103 : mura\n",
      "0104 : mura\n",
      "0105 : mura\n",
      "0106 : mura\n",
      "0107 : mura\n",
      "0108 : mura\n",
      "0109 : mura\n",
      "0110 : mura\n",
      "0111 : mura\n",
      "0112 : mura\n",
      "0113 : mura\n",
      "0114 : mura\n",
      "0115 : mura\n",
      "0116 : mura\n",
      "0117 : mura\n",
      "0118 : mura\n",
      "0119 : mura\n",
      "0120 : mura\n",
      "0121 : mura\n",
      "0122 : mura\n",
      "0123 : mura\n",
      "0124 : mura\n",
      "0125 : mura\n",
      "0126 : mura\n",
      "0127 : mura\n",
      "0128 : mura\n",
      "0129 : mura\n",
      "0130 : mura\n",
      "0131 : mura\n",
      "0132 : mura\n",
      "0133 : mura\n",
      "0134 : mura\n",
      "0135 : mura\n",
      "0136 : mura\n",
      "0137 : mura\n",
      "0138 : mura\n",
      "0139 : mura\n",
      "0140 : mura\n",
      "0141 : mura\n",
      "0142 : mura\n",
      "0143 : mura\n",
      "0144 : mura\n",
      "0145 : mura\n",
      "0146 : mura\n",
      "0147 : mura\n",
      "0148 : mura\n",
      "0149 : mura\n",
      "0150 : mura\n",
      "0151 : mura\n",
      "0152 : mura\n",
      "0153 : mura\n",
      "0154 : mura\n",
      "0155 : mura\n",
      "0156 : mura\n",
      "0157 : mura\n",
      "0158 : mura\n",
      "0159 : mura\n",
      "0160 : mura\n",
      "0161 : mura\n",
      "0162 : mura\n",
      "0163 : mura\n",
      "0164 : mura\n",
      "0165 : mura\n",
      "0166 : mura\n",
      "0167 : mura\n",
      "0168 : mura\n",
      "0169 : mura\n",
      "0170 : mura\n",
      "0171 : mura\n",
      "0172 : mura\n",
      "0173 : mura\n",
      "0174 : mura\n",
      "0175 : mura\n",
      "0176 : mura\n",
      "0177 : mura\n",
      "0178 : mura\n",
      "0179 : mura\n",
      "0180 : mura\n",
      "0181 : mura\n",
      "0182 : mura\n",
      "0183 : mura\n",
      "0184 : mura\n",
      "0185 : mura\n",
      "0186 : mura\n",
      "0187 : mura\n",
      "0188 : mura\n",
      "0189 : mura\n",
      "0190 : mura\n",
      "0191 : mura\n",
      "0192 : mura\n",
      "0193 : mura\n",
      "0194 : mura\n",
      "0195 : mura\n",
      "0196 : mura\n",
      "0197 : mura\n",
      "0198 : mura\n",
      "0199 : mura\n",
      "0200 : mura\n",
      "0201 : mura\n",
      "0202 : mura\n",
      "0203 : mura\n",
      "0204 : mura\n",
      "0205 : mura\n",
      "0206 : mura\n",
      "0207 : mura\n",
      "0208 : mura\n",
      "0209 : mura\n",
      "0210 : mura\n",
      "0211 : mura\n",
      "0212 : mura\n",
      "0213 : mura\n",
      "0214 : mura\n",
      "0215 : mura\n",
      "0216 : mura\n",
      "0217 : mura\n",
      "0218 : mura\n",
      "0219 : mura\n",
      "0220 : mura\n",
      "0221 : mura\n",
      "0222 : mura\n",
      "0223 : mura\n",
      "0224 : mura\n",
      "0225 : mura\n",
      "0226 : mura\n",
      "0227 : mura\n",
      "0228 : mura\n",
      "0229 : mura\n",
      "0230 : mura\n",
      "0231 : mura\n",
      "0232 : mura\n",
      "0233 : mura\n",
      "0234 : mura\n",
      "0235 : mura\n",
      "0236 : mura\n",
      "0237 : mura\n",
      "0238 : mura\n",
      "0239 : mura\n",
      "0240 : mura\n",
      "0241 : mura\n",
      "0242 : mura\n",
      "0243 : mura\n",
      "0244 : mura\n",
      "0245 : mura\n",
      "0246 : mura\n",
      "0247 : mura\n",
      "0248 : mura\n",
      "0249 : mura\n",
      "0250 : mura\n",
      "0251 : mura\n",
      "0252 : mura\n",
      "0253 : mura\n",
      "0254 : mura\n",
      "0255 : mura\n",
      "0256 : mura\n",
      "0257 : mura\n",
      "0258 : mura\n",
      "0259 : mura\n",
      "0260 : mura\n",
      "0261 : mura\n",
      "0262 : mura\n",
      "0263 : mura\n",
      "0264 : mura\n",
      "0265 : mura\n",
      "0266 : mura\n",
      "0267 : mura\n",
      "0268 : mura\n",
      "0269 : mura\n",
      "0270 : mura\n",
      "0271 : mura\n",
      "0272 : mura\n",
      "0273 : mura\n",
      "0274 : mura\n",
      "0275 : mura\n",
      "0276 : mura\n",
      "0277 : mura\n",
      "0278 : mura\n",
      "0279 : mura\n",
      "0280 : mura\n",
      "0281 : mura\n",
      "0282 : mura\n",
      "0283 : mura\n",
      "0284 : mura\n",
      "0285 : mura\n",
      "0286 : mura\n",
      "0287 : mura\n",
      "0288 : mura\n",
      "0289 : mura\n",
      "0290 : mura\n",
      "0291 : mura\n",
      "0292 : mura\n",
      "0293 : mura\n",
      "0294 : mura\n",
      "0295 : mura\n",
      "0296 : mura\n",
      "0297 : mura\n",
      "0298 : mura\n",
      "0299 : mura\n",
      "0300 : mura\n",
      "0301 : mura\n",
      "0302 : mura\n",
      "0303 : mura\n",
      "0304 : mura\n",
      "0305 : mura\n",
      "0306 : mura\n",
      "0307 : mura\n",
      "0308 : mura\n",
      "0309 : mura\n",
      "0310 : mura\n"
     ]
    }
   ],
   "source": [
    "for i in range(labels.shape[0]):\n",
    "    if labels[i] == 1:\n",
    "        print('%s : mura' %str(i).zfill(4)) \n",
    "        check_label[i] = 1\n",
    "    else:\n",
    "        print('%s : normal'  %str(i).zfill(4))\n",
    "        check_label[i] = 0"
   ]
  },
  {
   "cell_type": "code",
   "execution_count": 11,
   "metadata": {},
   "outputs": [
    {
     "name": "stdout",
     "output_type": "stream",
     "text": [
      "accuray :  1.0\n"
     ]
    }
   ],
   "source": [
    "error = ((true_label + check_label) % 2).sum()\n",
    "accuracy = (true_label.shape[0]-error)/true_label.shape[0]\n",
    "print('accuray : ', accuracy)"
   ]
  },
  {
   "cell_type": "code",
   "execution_count": 40,
   "metadata": {},
   "outputs": [],
   "source": [
    "path2 = 'Image_310/0001/W225.bmp'\n",
    "img = np.array(Image.open(path2))\n",
    "img = (255 - img)/255\n",
    "img = resize(img,((480,480)), mode='reflect')"
   ]
  },
  {
   "cell_type": "code",
   "execution_count": 41,
   "metadata": {},
   "outputs": [
    {
     "name": "stdout",
     "output_type": "stream",
     "text": [
      "[[0.84096147 0.77134621 0.76448159 ... 0.77091321 0.77419266 0.83337874]\n",
      " [0.82030199 0.74432497 0.73643869 ... 0.73244226 0.73926137 0.8050817 ]\n",
      " [0.82087546 0.74257288 0.73395403 ... 0.73192684 0.73586409 0.80170736]\n",
      " ...\n",
      " [0.82628873 0.74309877 0.7337336  ... 0.7319251  0.74267656 0.82481396]\n",
      " [0.82805667 0.74771645 0.73838202 ... 0.73485583 0.74567329 0.82832007]\n",
      " [0.86099724 0.79217463 0.78479458 ... 0.76656294 0.77243107 0.84629993]]\n"
     ]
    }
   ],
   "source": [
    "print(img)"
   ]
  },
  {
   "cell_type": "code",
   "execution_count": 42,
   "metadata": {},
   "outputs": [
    {
     "data": {
      "text/plain": [
       "<matplotlib.image.AxesImage at 0x194edae26a0>"
      ]
     },
     "execution_count": 42,
     "metadata": {},
     "output_type": "execute_result"
    },
    {
     "data": {
      "image/png": "[encoded data removed]",
      "text/plain": [
       "<Figure size 432x288 with 1 Axes>"
      ]
     },
     "metadata": {
      "needs_background": "light"
     },
     "output_type": "display_data"
    }
   ],
   "source": [
    "import matplotlib.pyplot as plt \n",
    "plt.imshow(img)"
   ]
  },
  {
   "cell_type": "code",
   "execution_count": null,
   "metadata": {},
   "outputs": [],
   "source": []
  }
 ],
 "metadata": {
  "kernelspec": {
   "display_name": "Python 3",
   "language": "python",
   "name": "python3"
  },
  "language_info": {
   "codemirror_mode": {
    "name": "ipython",
    "version": 3
   },
   "file_extension": ".py",
   "mimetype": "text/x-python",
   "name": "python",
   "nbconvert_exporter": "python",
   "pygments_lexer": "ipython3",
   "version": "3.6.10"
  }
 },
 "nbformat": 4,
 "nbformat_minor": 2
}
